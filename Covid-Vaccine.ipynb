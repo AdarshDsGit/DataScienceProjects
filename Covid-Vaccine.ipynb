{
 "cells": [
  {
   "cell_type": "code",
   "execution_count": 2,
   "id": "ef5cf599",
   "metadata": {},
   "outputs": [],
   "source": [
    "import pandas as pd\n",
    "import numpy as np\n",
    "import matplotlib.pyplot as plt\n",
    "import seaborn as sns"
   ]
  },
  {
   "cell_type": "code",
   "execution_count": 62,
   "id": "87e2bd60",
   "metadata": {},
   "outputs": [
    {
     "data": {
      "text/html": [
       "<div>\n",
       "<style scoped>\n",
       "    .dataframe tbody tr th:only-of-type {\n",
       "        vertical-align: middle;\n",
       "    }\n",
       "\n",
       "    .dataframe tbody tr th {\n",
       "        vertical-align: top;\n",
       "    }\n",
       "\n",
       "    .dataframe thead th {\n",
       "        text-align: right;\n",
       "    }\n",
       "</style>\n",
       "<table border=\"1\" class=\"dataframe\">\n",
       "  <thead>\n",
       "    <tr style=\"text-align: right;\">\n",
       "      <th></th>\n",
       "      <th>state</th>\n",
       "      <th>state_code</th>\n",
       "      <th>total_doses</th>\n",
       "      <th>total_vaccinated</th>\n",
       "      <th>total_fully_vaccinated</th>\n",
       "      <th>population</th>\n",
       "      <th>last_updated</th>\n",
       "      <th>ref</th>\n",
       "    </tr>\n",
       "  </thead>\n",
       "  <tbody>\n",
       "    <tr>\n",
       "      <th>33</th>\n",
       "      <td>Tripura</td>\n",
       "      <td>TR</td>\n",
       "      <td>1282367</td>\n",
       "      <td>912966</td>\n",
       "      <td>369401</td>\n",
       "      <td>4169794.0</td>\n",
       "      <td>4/5/2021</td>\n",
       "      <td>https://www.mohfw.gov.in/pdf/CumulativeCOVIDVa...</td>\n",
       "    </tr>\n",
       "    <tr>\n",
       "      <th>34</th>\n",
       "      <td>Uttar Pradesh</td>\n",
       "      <td>UP</td>\n",
       "      <td>12865305</td>\n",
       "      <td>10420459</td>\n",
       "      <td>2444846</td>\n",
       "      <td>237882725.0</td>\n",
       "      <td>4/5/2021</td>\n",
       "      <td>https://www.mohfw.gov.in/pdf/CumulativeCOVIDVa...</td>\n",
       "    </tr>\n",
       "    <tr>\n",
       "      <th>35</th>\n",
       "      <td>Uttarakhand</td>\n",
       "      <td>UK</td>\n",
       "      <td>2111065</td>\n",
       "      <td>1677190</td>\n",
       "      <td>433875</td>\n",
       "      <td>11250858.0</td>\n",
       "      <td>4/5/2021</td>\n",
       "      <td>https://www.mohfw.gov.in/pdf/CumulativeCOVIDVa...</td>\n",
       "    </tr>\n",
       "    <tr>\n",
       "      <th>36</th>\n",
       "      <td>West Bengal</td>\n",
       "      <td>WB</td>\n",
       "      <td>11243084</td>\n",
       "      <td>8712185</td>\n",
       "      <td>2530899</td>\n",
       "      <td>99609303.0</td>\n",
       "      <td>4/5/2021</td>\n",
       "      <td>https://www.mohfw.gov.in/pdf/CumulativeCOVIDVa...</td>\n",
       "    </tr>\n",
       "    <tr>\n",
       "      <th>37</th>\n",
       "      <td>Miscellaneous</td>\n",
       "      <td>MISC</td>\n",
       "      <td>3001735</td>\n",
       "      <td>1677577</td>\n",
       "      <td>1324158</td>\n",
       "      <td>NaN</td>\n",
       "      <td>4/5/2021</td>\n",
       "      <td>https://www.mohfw.gov.in/pdf/CumulativeCOVIDVa...</td>\n",
       "    </tr>\n",
       "  </tbody>\n",
       "</table>\n",
       "</div>"
      ],
      "text/plain": [
       "            state state_code  total_doses  total_vaccinated  \\\n",
       "33        Tripura         TR      1282367            912966   \n",
       "34  Uttar Pradesh         UP     12865305          10420459   \n",
       "35    Uttarakhand         UK      2111065           1677190   \n",
       "36    West Bengal         WB     11243084           8712185   \n",
       "37  Miscellaneous       MISC      3001735           1677577   \n",
       "\n",
       "    total_fully_vaccinated   population last_updated  \\\n",
       "33                  369401    4169794.0     4/5/2021   \n",
       "34                 2444846  237882725.0     4/5/2021   \n",
       "35                  433875   11250858.0     4/5/2021   \n",
       "36                 2530899   99609303.0     4/5/2021   \n",
       "37                 1324158          NaN     4/5/2021   \n",
       "\n",
       "                                                  ref  \n",
       "33  https://www.mohfw.gov.in/pdf/CumulativeCOVIDVa...  \n",
       "34  https://www.mohfw.gov.in/pdf/CumulativeCOVIDVa...  \n",
       "35  https://www.mohfw.gov.in/pdf/CumulativeCOVIDVa...  \n",
       "36  https://www.mohfw.gov.in/pdf/CumulativeCOVIDVa...  \n",
       "37  https://www.mohfw.gov.in/pdf/CumulativeCOVIDVa...  "
      ]
     },
     "execution_count": 62,
     "metadata": {},
     "output_type": "execute_result"
    }
   ],
   "source": [
    "data = pd.read_csv('state_latest.csv')\n",
    "data.tail()"
   ]
  },
  {
   "cell_type": "code",
   "execution_count": 4,
   "id": "3512ea7c",
   "metadata": {},
   "outputs": [
    {
     "data": {
      "text/plain": [
       "(38, 8)"
      ]
     },
     "execution_count": 4,
     "metadata": {},
     "output_type": "execute_result"
    }
   ],
   "source": [
    "data.shape"
   ]
  },
  {
   "cell_type": "code",
   "execution_count": 6,
   "id": "cac1a69f",
   "metadata": {},
   "outputs": [
    {
     "data": {
      "text/plain": [
       "state                     0\n",
       "state_code                0\n",
       "total_doses               0\n",
       "total_vaccinated          0\n",
       "total_fully_vaccinated    0\n",
       "population                1\n",
       "last_updated              0\n",
       "ref                       0\n",
       "dtype: int64"
      ]
     },
     "execution_count": 6,
     "metadata": {},
     "output_type": "execute_result"
    }
   ],
   "source": [
    "data.isnull().sum()"
   ]
  },
  {
   "cell_type": "code",
   "execution_count": 5,
   "id": "bb9e90e4",
   "metadata": {},
   "outputs": [
    {
     "data": {
      "text/plain": [
       "Index(['state', 'state_code', 'total_doses', 'total_vaccinated',\n",
       "       'total_fully_vaccinated', 'population', 'last_updated', 'ref'],\n",
       "      dtype='object')"
      ]
     },
     "execution_count": 5,
     "metadata": {},
     "output_type": "execute_result"
    }
   ],
   "source": [
    "data.columns"
   ]
  },
  {
   "cell_type": "code",
   "execution_count": 7,
   "id": "6032ed21",
   "metadata": {},
   "outputs": [],
   "source": [
    "#Preprocessing\n",
    "data.drop('ref',axis=1,inplace=True)\n",
    "\n",
    "data['1st_dose'] = data['total_doses']\n",
    "\n",
    "data['2nd_dose'] = data['total_vaccinated']"
   ]
  },
  {
   "cell_type": "code",
   "execution_count": 8,
   "id": "7548acd9",
   "metadata": {},
   "outputs": [
    {
     "data": {
      "text/html": [
       "<div>\n",
       "<style scoped>\n",
       "    .dataframe tbody tr th:only-of-type {\n",
       "        vertical-align: middle;\n",
       "    }\n",
       "\n",
       "    .dataframe tbody tr th {\n",
       "        vertical-align: top;\n",
       "    }\n",
       "\n",
       "    .dataframe thead th {\n",
       "        text-align: right;\n",
       "    }\n",
       "</style>\n",
       "<table border=\"1\" class=\"dataframe\">\n",
       "  <thead>\n",
       "    <tr style=\"text-align: right;\">\n",
       "      <th></th>\n",
       "      <th>state</th>\n",
       "      <th>state_code</th>\n",
       "      <th>total_doses</th>\n",
       "      <th>total_vaccinated</th>\n",
       "      <th>total_fully_vaccinated</th>\n",
       "      <th>population</th>\n",
       "      <th>last_updated</th>\n",
       "      <th>1st_dose</th>\n",
       "      <th>2nd_dose</th>\n",
       "    </tr>\n",
       "  </thead>\n",
       "  <tbody>\n",
       "    <tr>\n",
       "      <th>0</th>\n",
       "      <td>A &amp; N Islands</td>\n",
       "      <td>AN</td>\n",
       "      <td>106203</td>\n",
       "      <td>94599</td>\n",
       "      <td>11604</td>\n",
       "      <td>417036.0</td>\n",
       "      <td>4/5/2021</td>\n",
       "      <td>106203</td>\n",
       "      <td>94599</td>\n",
       "    </tr>\n",
       "    <tr>\n",
       "      <th>1</th>\n",
       "      <td>Andhra Pradesh</td>\n",
       "      <td>AP</td>\n",
       "      <td>6729038</td>\n",
       "      <td>5192245</td>\n",
       "      <td>1536793</td>\n",
       "      <td>53903393.0</td>\n",
       "      <td>4/5/2021</td>\n",
       "      <td>6729038</td>\n",
       "      <td>5192245</td>\n",
       "    </tr>\n",
       "    <tr>\n",
       "      <th>2</th>\n",
       "      <td>Arunachal Pradesh</td>\n",
       "      <td>AR</td>\n",
       "      <td>252285</td>\n",
       "      <td>193635</td>\n",
       "      <td>58650</td>\n",
       "      <td>1570458.0</td>\n",
       "      <td>4/5/2021</td>\n",
       "      <td>252285</td>\n",
       "      <td>193635</td>\n",
       "    </tr>\n",
       "    <tr>\n",
       "      <th>3</th>\n",
       "      <td>Assam</td>\n",
       "      <td>AS</td>\n",
       "      <td>2673320</td>\n",
       "      <td>2094437</td>\n",
       "      <td>578883</td>\n",
       "      <td>35607039.0</td>\n",
       "      <td>4/5/2021</td>\n",
       "      <td>2673320</td>\n",
       "      <td>2094437</td>\n",
       "    </tr>\n",
       "    <tr>\n",
       "      <th>4</th>\n",
       "      <td>Bihar</td>\n",
       "      <td>BR</td>\n",
       "      <td>7217903</td>\n",
       "      <td>6012682</td>\n",
       "      <td>1205221</td>\n",
       "      <td>124799926.0</td>\n",
       "      <td>4/5/2021</td>\n",
       "      <td>7217903</td>\n",
       "      <td>6012682</td>\n",
       "    </tr>\n",
       "  </tbody>\n",
       "</table>\n",
       "</div>"
      ],
      "text/plain": [
       "               state state_code  total_doses  total_vaccinated  \\\n",
       "0      A & N Islands         AN       106203             94599   \n",
       "1     Andhra Pradesh         AP      6729038           5192245   \n",
       "2  Arunachal Pradesh         AR       252285            193635   \n",
       "3              Assam         AS      2673320           2094437   \n",
       "4              Bihar         BR      7217903           6012682   \n",
       "\n",
       "   total_fully_vaccinated   population last_updated  1st_dose  2nd_dose  \n",
       "0                   11604     417036.0     4/5/2021    106203     94599  \n",
       "1                 1536793   53903393.0     4/5/2021   6729038   5192245  \n",
       "2                   58650    1570458.0     4/5/2021    252285    193635  \n",
       "3                  578883   35607039.0     4/5/2021   2673320   2094437  \n",
       "4                 1205221  124799926.0     4/5/2021   7217903   6012682  "
      ]
     },
     "execution_count": 8,
     "metadata": {},
     "output_type": "execute_result"
    }
   ],
   "source": [
    "data.head()"
   ]
  },
  {
   "cell_type": "code",
   "execution_count": 9,
   "id": "3245d007",
   "metadata": {},
   "outputs": [],
   "source": [
    "performance = data.copy()\n",
    "\n",
    "performance.drop(['total_doses','total_vaccinated'],axis=1,inplace=True)"
   ]
  },
  {
   "cell_type": "code",
   "execution_count": 10,
   "id": "e46f4d73",
   "metadata": {},
   "outputs": [
    {
     "data": {
      "text/html": [
       "<div>\n",
       "<style scoped>\n",
       "    .dataframe tbody tr th:only-of-type {\n",
       "        vertical-align: middle;\n",
       "    }\n",
       "\n",
       "    .dataframe tbody tr th {\n",
       "        vertical-align: top;\n",
       "    }\n",
       "\n",
       "    .dataframe thead th {\n",
       "        text-align: right;\n",
       "    }\n",
       "</style>\n",
       "<table border=\"1\" class=\"dataframe\">\n",
       "  <thead>\n",
       "    <tr style=\"text-align: right;\">\n",
       "      <th></th>\n",
       "      <th>state</th>\n",
       "      <th>state_code</th>\n",
       "      <th>total_fully_vaccinated</th>\n",
       "      <th>population</th>\n",
       "      <th>last_updated</th>\n",
       "      <th>1st_dose</th>\n",
       "      <th>2nd_dose</th>\n",
       "    </tr>\n",
       "  </thead>\n",
       "  <tbody>\n",
       "    <tr>\n",
       "      <th>0</th>\n",
       "      <td>A &amp; N Islands</td>\n",
       "      <td>AN</td>\n",
       "      <td>11604</td>\n",
       "      <td>417036.0</td>\n",
       "      <td>4/5/2021</td>\n",
       "      <td>106203</td>\n",
       "      <td>94599</td>\n",
       "    </tr>\n",
       "    <tr>\n",
       "      <th>1</th>\n",
       "      <td>Andhra Pradesh</td>\n",
       "      <td>AP</td>\n",
       "      <td>1536793</td>\n",
       "      <td>53903393.0</td>\n",
       "      <td>4/5/2021</td>\n",
       "      <td>6729038</td>\n",
       "      <td>5192245</td>\n",
       "    </tr>\n",
       "    <tr>\n",
       "      <th>2</th>\n",
       "      <td>Arunachal Pradesh</td>\n",
       "      <td>AR</td>\n",
       "      <td>58650</td>\n",
       "      <td>1570458.0</td>\n",
       "      <td>4/5/2021</td>\n",
       "      <td>252285</td>\n",
       "      <td>193635</td>\n",
       "    </tr>\n",
       "    <tr>\n",
       "      <th>3</th>\n",
       "      <td>Assam</td>\n",
       "      <td>AS</td>\n",
       "      <td>578883</td>\n",
       "      <td>35607039.0</td>\n",
       "      <td>4/5/2021</td>\n",
       "      <td>2673320</td>\n",
       "      <td>2094437</td>\n",
       "    </tr>\n",
       "    <tr>\n",
       "      <th>4</th>\n",
       "      <td>Bihar</td>\n",
       "      <td>BR</td>\n",
       "      <td>1205221</td>\n",
       "      <td>124799926.0</td>\n",
       "      <td>4/5/2021</td>\n",
       "      <td>7217903</td>\n",
       "      <td>6012682</td>\n",
       "    </tr>\n",
       "  </tbody>\n",
       "</table>\n",
       "</div>"
      ],
      "text/plain": [
       "               state state_code  total_fully_vaccinated   population  \\\n",
       "0      A & N Islands         AN                   11604     417036.0   \n",
       "1     Andhra Pradesh         AP                 1536793   53903393.0   \n",
       "2  Arunachal Pradesh         AR                   58650    1570458.0   \n",
       "3              Assam         AS                  578883   35607039.0   \n",
       "4              Bihar         BR                 1205221  124799926.0   \n",
       "\n",
       "  last_updated  1st_dose  2nd_dose  \n",
       "0     4/5/2021    106203     94599  \n",
       "1     4/5/2021   6729038   5192245  \n",
       "2     4/5/2021    252285    193635  \n",
       "3     4/5/2021   2673320   2094437  \n",
       "4     4/5/2021   7217903   6012682  "
      ]
     },
     "execution_count": 10,
     "metadata": {},
     "output_type": "execute_result"
    }
   ],
   "source": [
    "performance.head()"
   ]
  },
  {
   "cell_type": "code",
   "execution_count": 25,
   "id": "2bf28bf2",
   "metadata": {},
   "outputs": [
    {
     "data": {
      "text/html": [
       "<div>\n",
       "<style scoped>\n",
       "    .dataframe tbody tr th:only-of-type {\n",
       "        vertical-align: middle;\n",
       "    }\n",
       "\n",
       "    .dataframe tbody tr th {\n",
       "        vertical-align: top;\n",
       "    }\n",
       "\n",
       "    .dataframe thead th {\n",
       "        text-align: right;\n",
       "    }\n",
       "</style>\n",
       "<table border=\"1\" class=\"dataframe\">\n",
       "  <thead>\n",
       "    <tr style=\"text-align: right;\">\n",
       "      <th></th>\n",
       "      <th>state</th>\n",
       "      <th>total_fully_vaccinated</th>\n",
       "      <th>0</th>\n",
       "    </tr>\n",
       "  </thead>\n",
       "  <tbody>\n",
       "    <tr>\n",
       "      <th>11</th>\n",
       "      <td>Gujarat</td>\n",
       "      <td>2722190</td>\n",
       "      <td>1</td>\n",
       "    </tr>\n",
       "    <tr>\n",
       "      <th>21</th>\n",
       "      <td>Maharashtra</td>\n",
       "      <td>2685938</td>\n",
       "      <td>1</td>\n",
       "    </tr>\n",
       "    <tr>\n",
       "      <th>37</th>\n",
       "      <td>West Bengal</td>\n",
       "      <td>2530899</td>\n",
       "      <td>1</td>\n",
       "    </tr>\n",
       "    <tr>\n",
       "      <th>35</th>\n",
       "      <td>Uttar Pradesh</td>\n",
       "      <td>2444846</td>\n",
       "      <td>1</td>\n",
       "    </tr>\n",
       "    <tr>\n",
       "      <th>30</th>\n",
       "      <td>Rajasthan</td>\n",
       "      <td>2342871</td>\n",
       "      <td>1</td>\n",
       "    </tr>\n",
       "    <tr>\n",
       "      <th>16</th>\n",
       "      <td>Karnataka</td>\n",
       "      <td>1647241</td>\n",
       "      <td>1</td>\n",
       "    </tr>\n",
       "    <tr>\n",
       "      <th>1</th>\n",
       "      <td>Andhra Pradesh</td>\n",
       "      <td>1536793</td>\n",
       "      <td>1</td>\n",
       "    </tr>\n",
       "    <tr>\n",
       "      <th>17</th>\n",
       "      <td>Kerala</td>\n",
       "      <td>1419076</td>\n",
       "      <td>1</td>\n",
       "    </tr>\n",
       "    <tr>\n",
       "      <th>32</th>\n",
       "      <td>Tamil Nadu</td>\n",
       "      <td>1417446</td>\n",
       "      <td>1</td>\n",
       "    </tr>\n",
       "    <tr>\n",
       "      <th>24</th>\n",
       "      <td>Miscellaneous</td>\n",
       "      <td>1324158</td>\n",
       "      <td>1</td>\n",
       "    </tr>\n",
       "    <tr>\n",
       "      <th>4</th>\n",
       "      <td>Bihar</td>\n",
       "      <td>1205221</td>\n",
       "      <td>1</td>\n",
       "    </tr>\n",
       "    <tr>\n",
       "      <th>20</th>\n",
       "      <td>Madhya Pradesh</td>\n",
       "      <td>1162769</td>\n",
       "      <td>1</td>\n",
       "    </tr>\n",
       "    <tr>\n",
       "      <th>27</th>\n",
       "      <td>Odisha</td>\n",
       "      <td>961539</td>\n",
       "      <td>1</td>\n",
       "    </tr>\n",
       "    <tr>\n",
       "      <th>6</th>\n",
       "      <td>Chhattisgarh</td>\n",
       "      <td>781887</td>\n",
       "      <td>1</td>\n",
       "    </tr>\n",
       "    <tr>\n",
       "      <th>9</th>\n",
       "      <td>Delhi</td>\n",
       "      <td>739324</td>\n",
       "      <td>1</td>\n",
       "    </tr>\n",
       "    <tr>\n",
       "      <th>33</th>\n",
       "      <td>Telangana</td>\n",
       "      <td>637119</td>\n",
       "      <td>1</td>\n",
       "    </tr>\n",
       "    <tr>\n",
       "      <th>3</th>\n",
       "      <td>Assam</td>\n",
       "      <td>578883</td>\n",
       "      <td>1</td>\n",
       "    </tr>\n",
       "    <tr>\n",
       "      <th>12</th>\n",
       "      <td>Haryana</td>\n",
       "      <td>575269</td>\n",
       "      <td>1</td>\n",
       "    </tr>\n",
       "    <tr>\n",
       "      <th>15</th>\n",
       "      <td>Jharkhand</td>\n",
       "      <td>504088</td>\n",
       "      <td>1</td>\n",
       "    </tr>\n",
       "    <tr>\n",
       "      <th>29</th>\n",
       "      <td>Punjab</td>\n",
       "      <td>461813</td>\n",
       "      <td>1</td>\n",
       "    </tr>\n",
       "    <tr>\n",
       "      <th>36</th>\n",
       "      <td>Uttarakhand</td>\n",
       "      <td>433875</td>\n",
       "      <td>1</td>\n",
       "    </tr>\n",
       "    <tr>\n",
       "      <th>14</th>\n",
       "      <td>Jammu &amp; Kashmir</td>\n",
       "      <td>402049</td>\n",
       "      <td>1</td>\n",
       "    </tr>\n",
       "    <tr>\n",
       "      <th>34</th>\n",
       "      <td>Tripura</td>\n",
       "      <td>369401</td>\n",
       "      <td>1</td>\n",
       "    </tr>\n",
       "    <tr>\n",
       "      <th>13</th>\n",
       "      <td>Himachal Pradesh</td>\n",
       "      <td>278694</td>\n",
       "      <td>1</td>\n",
       "    </tr>\n",
       "    <tr>\n",
       "      <th>10</th>\n",
       "      <td>Goa</td>\n",
       "      <td>74784</td>\n",
       "      <td>1</td>\n",
       "    </tr>\n",
       "    <tr>\n",
       "      <th>22</th>\n",
       "      <td>Manipur</td>\n",
       "      <td>62959</td>\n",
       "      <td>1</td>\n",
       "    </tr>\n",
       "    <tr>\n",
       "      <th>23</th>\n",
       "      <td>Meghalaya</td>\n",
       "      <td>61901</td>\n",
       "      <td>1</td>\n",
       "    </tr>\n",
       "    <tr>\n",
       "      <th>2</th>\n",
       "      <td>Arunachal Pradesh</td>\n",
       "      <td>58650</td>\n",
       "      <td>1</td>\n",
       "    </tr>\n",
       "    <tr>\n",
       "      <th>5</th>\n",
       "      <td>Chandigarh</td>\n",
       "      <td>51789</td>\n",
       "      <td>1</td>\n",
       "    </tr>\n",
       "    <tr>\n",
       "      <th>31</th>\n",
       "      <td>Sikkim</td>\n",
       "      <td>45732</td>\n",
       "      <td>1</td>\n",
       "    </tr>\n",
       "    <tr>\n",
       "      <th>25</th>\n",
       "      <td>Mizoram</td>\n",
       "      <td>45096</td>\n",
       "      <td>1</td>\n",
       "    </tr>\n",
       "    <tr>\n",
       "      <th>26</th>\n",
       "      <td>Nagaland</td>\n",
       "      <td>41698</td>\n",
       "      <td>1</td>\n",
       "    </tr>\n",
       "    <tr>\n",
       "      <th>18</th>\n",
       "      <td>Ladakh</td>\n",
       "      <td>35326</td>\n",
       "      <td>1</td>\n",
       "    </tr>\n",
       "    <tr>\n",
       "      <th>28</th>\n",
       "      <td>Puducherry</td>\n",
       "      <td>30859</td>\n",
       "      <td>1</td>\n",
       "    </tr>\n",
       "    <tr>\n",
       "      <th>0</th>\n",
       "      <td>A &amp; N Islands</td>\n",
       "      <td>11604</td>\n",
       "      <td>1</td>\n",
       "    </tr>\n",
       "    <tr>\n",
       "      <th>7</th>\n",
       "      <td>Dadra &amp; Nagar Haveli</td>\n",
       "      <td>8852</td>\n",
       "      <td>1</td>\n",
       "    </tr>\n",
       "    <tr>\n",
       "      <th>8</th>\n",
       "      <td>Daman &amp; Diu</td>\n",
       "      <td>8386</td>\n",
       "      <td>1</td>\n",
       "    </tr>\n",
       "    <tr>\n",
       "      <th>19</th>\n",
       "      <td>Lakshadweep</td>\n",
       "      <td>4484</td>\n",
       "      <td>1</td>\n",
       "    </tr>\n",
       "  </tbody>\n",
       "</table>\n",
       "</div>"
      ],
      "text/plain": [
       "                   state  total_fully_vaccinated  0\n",
       "11               Gujarat                 2722190  1\n",
       "21           Maharashtra                 2685938  1\n",
       "37           West Bengal                 2530899  1\n",
       "35         Uttar Pradesh                 2444846  1\n",
       "30             Rajasthan                 2342871  1\n",
       "16             Karnataka                 1647241  1\n",
       "1         Andhra Pradesh                 1536793  1\n",
       "17                Kerala                 1419076  1\n",
       "32            Tamil Nadu                 1417446  1\n",
       "24         Miscellaneous                 1324158  1\n",
       "4                  Bihar                 1205221  1\n",
       "20        Madhya Pradesh                 1162769  1\n",
       "27                Odisha                  961539  1\n",
       "6           Chhattisgarh                  781887  1\n",
       "9                  Delhi                  739324  1\n",
       "33             Telangana                  637119  1\n",
       "3                  Assam                  578883  1\n",
       "12               Haryana                  575269  1\n",
       "15             Jharkhand                  504088  1\n",
       "29                Punjab                  461813  1\n",
       "36           Uttarakhand                  433875  1\n",
       "14       Jammu & Kashmir                  402049  1\n",
       "34               Tripura                  369401  1\n",
       "13      Himachal Pradesh                  278694  1\n",
       "10                   Goa                   74784  1\n",
       "22               Manipur                   62959  1\n",
       "23             Meghalaya                   61901  1\n",
       "2      Arunachal Pradesh                   58650  1\n",
       "5             Chandigarh                   51789  1\n",
       "31                Sikkim                   45732  1\n",
       "25               Mizoram                   45096  1\n",
       "26              Nagaland                   41698  1\n",
       "18                Ladakh                   35326  1\n",
       "28            Puducherry                   30859  1\n",
       "0          A & N Islands                   11604  1\n",
       "7   Dadra & Nagar Haveli                    8852  1\n",
       "8            Daman & Diu                    8386  1\n",
       "19           Lakshadweep                    4484  1"
      ]
     },
     "execution_count": 25,
     "metadata": {},
     "output_type": "execute_result"
    }
   ],
   "source": [
    "high = performance.groupby(['state', 'total_fully_vaccinated']).size().reset_index()\n",
    "high = high.sort_values(ascending=False ,by='total_fully_vaccinated')\n",
    "high"
   ]
  },
  {
   "cell_type": "code",
   "execution_count": 68,
   "id": "1fb06002",
   "metadata": {},
   "outputs": [
    {
     "data": {
      "text/plain": [
       "Text(0.5, 1.0, 'Toatal Fully Vaccinated 1st 10 states')"
      ]
     },
     "execution_count": 68,
     "metadata": {},
     "output_type": "execute_result"
    },
    {
     "data": {
      "image/png": "[encoded data removed]",
      "text/plain": [
       "<Figure size 1080x720 with 1 Axes>"
      ]
     },
     "metadata": {
      "needs_background": "light"
     },
     "output_type": "display_data"
    }
   ],
   "source": [
    "#plotting\n",
    "#lt.rcParams['figure.figsize'](15,10)\n",
    "sns.barplot(x=high['state'][:10],y=high['total_fully_vaccinated'][:10],palette='magma')\n",
    "plt.title('Toatal Fully Vaccinated 1st 10 states')"
   ]
  },
  {
   "cell_type": "code",
   "execution_count": 47,
   "id": "102851a8",
   "metadata": {},
   "outputs": [],
   "source": [
    "#Checking vaccination on the bassis of population\n",
    "dose1 = performance.groupby(['state', 'population','1st_dose']).size().reset_index().rename(columns={0:'Count'})\n",
    "dose2 = performance.groupby(['state', 'population','2nd_dose']).size().reset_index().rename(columns={0:'Count'})"
   ]
  },
  {
   "cell_type": "code",
   "execution_count": 56,
   "id": "2e7ffc82",
   "metadata": {},
   "outputs": [],
   "source": [
    "dose1.drop('Count',axis=1,inplace=True)"
   ]
  },
  {
   "cell_type": "code",
   "execution_count": 57,
   "id": "34a72b76",
   "metadata": {},
   "outputs": [],
   "source": [
    "dose2.drop('Count',axis=1,inplace=True)"
   ]
  },
  {
   "cell_type": "code",
   "execution_count": 58,
   "id": "1b973b69",
   "metadata": {},
   "outputs": [],
   "source": [
    "plot1 = dose1.sort_values(by='1st_dose')"
   ]
  },
  {
   "cell_type": "code",
   "execution_count": 59,
   "id": "8c742e2f",
   "metadata": {},
   "outputs": [
    {
     "data": {
      "image/png": "[encoded data removed]",
      "text/plain": [
       "<Figure size 1080x720 with 1 Axes>"
      ]
     },
     "metadata": {
      "needs_background": "light"
     },
     "output_type": "display_data"
    }
   ],
   "source": [
    "\n",
    "plot1.plot(kind='bar',x='state')\n",
    "plt.title('Population and 1st Dose', fontweight='bold',fontsize=15)\n",
    "plt.show()"
   ]
  },
  {
   "cell_type": "markdown",
   "id": "f04681ca",
   "metadata": {},
   "source": [
    "- The population rate and the 1st dose has a huge differnce"
   ]
  },
  {
   "cell_type": "code",
   "execution_count": 60,
   "id": "b33a4f5e",
   "metadata": {},
   "outputs": [],
   "source": [
    "plot2 = dose2.sort_values(by='2nd_dose')"
   ]
  },
  {
   "cell_type": "code",
   "execution_count": 63,
   "id": "4d6eba7f",
   "metadata": {},
   "outputs": [
    {
     "data": {
      "image/png": "[encoded data removed]",
      "text/plain": [
       "<Figure size 1080x720 with 1 Axes>"
      ]
     },
     "metadata": {
      "needs_background": "light"
     },
     "output_type": "display_data"
    }
   ],
   "source": [
    "plot2.plot(kind='bar',x='state')\n",
    "plt.title('Population and 2nd Dose', fontweight='bold',fontsize=15)\n",
    "plt.show()"
   ]
  },
  {
   "cell_type": "markdown",
   "id": "86388fa6",
   "metadata": {},
   "source": [
    "- 2nd dose also there is a huge diffrence"
   ]
  },
  {
   "cell_type": "code",
   "execution_count": 65,
   "id": "a3ce87f6",
   "metadata": {},
   "outputs": [],
   "source": [
    "#population with total vaccinated\n",
    "Total_vac= data[['population', 'total_fully_vaccinated', 'state']].groupby(['state']).mean().sort_values(by='total_fully_vaccinated',ascending=False)"
   ]
  },
  {
   "cell_type": "code",
   "execution_count": 66,
   "id": "77bd4c11",
   "metadata": {},
   "outputs": [
    {
     "data": {
      "image/png": "[encoded data removed]",
      "text/plain": [
       "<Figure size 1080x720 with 1 Axes>"
      ]
     },
     "metadata": {
      "needs_background": "light"
     },
     "output_type": "display_data"
    }
   ],
   "source": [
    "Total_vac.plot(kind='bar')\n",
    "plt.title('Total population and Vaccinated', fontweight='bold',fontsize=15)\n",
    "plt.show()"
   ]
  },
  {
   "cell_type": "code",
   "execution_count": 69,
   "id": "81fbdd4b",
   "metadata": {},
   "outputs": [
    {
     "data": {
      "image/png": "[encoded data removed]",
      "text/plain": [
       "<Figure size 1080x720 with 1 Axes>"
      ]
     },
     "metadata": {
      "needs_background": "light"
     },
     "output_type": "display_data"
    }
   ],
   "source": [
    "Total_vac[:5].plot(kind='bar')\n",
    "plt.title('Total population and Vaccinated 1st Five')\n",
    "plt.show()"
   ]
  },
  {
   "cell_type": "markdown",
   "id": "b35cf142",
   "metadata": {},
   "source": [
    "- Gujarat, Maharashtra, WestBengal ,Uttar Pradesh and Rajasthan has the higher rate of total fully vaccinated \n",
    "- We can also say population is very far from total vaccinated"
   ]
  },
  {
   "cell_type": "code",
   "execution_count": null,
   "id": "622138d4",
   "metadata": {},
   "outputs": [],
   "source": []
  }
 ],
 "metadata": {
  "kernelspec": {
   "display_name": "Python 3 (ipykernel)",
   "language": "python",
   "name": "python3"
  },
  "language_info": {
   "codemirror_mode": {
    "name": "ipython",
    "version": 3
   },
   "file_extension": ".py",
   "mimetype": "text/x-python",
   "name": "python",
   "nbconvert_exporter": "python",
   "pygments_lexer": "ipython3",
   "version": "3.9.7"
  }
 },
 "nbformat": 4,
 "nbformat_minor": 5
}
